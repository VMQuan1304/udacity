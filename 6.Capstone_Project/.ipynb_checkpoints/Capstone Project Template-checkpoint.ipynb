{
 "cells": [
  {
   "cell_type": "markdown",
   "metadata": {
    "editable": true
   },
   "source": [
    "# Project Title\n",
    "### Data Engineering Capstone Project\n",
    "\n",
    "#### Project Summary\n",
    "This is a data engineer project on collecting data from S&P500 stocks' data and building a data warehouse on Amazon Redshift for further analysis. It contains a pipeline from copying data into stage tables to loading data into the snowflake schema database. The process includes a data quality check after loading all the data.\n",
    "\n",
    "The project follows the follow steps:\n",
    "* Step 1: Scope the Project and Gather Data\n",
    "* Step 2: Explore and Assess the Data\n",
    "* Step 3: Define the Data Model\n",
    "* Step 4: Run ETL to Model the Data\n",
    "* Step 5: Complete Project Write Up"
   ]
  },
  {
   "cell_type": "markdown",
   "metadata": {
    "editable": true
   },
   "source": [
    "#### File and folder\n",
    "1. raw include data before clean\n",
    "2. cleaned_data include data after clean\n",
    "3. dwh.cfg include config information for amazon services"
   ]
  },
  {
   "cell_type": "markdown",
   "metadata": {
    "editable": true
   },
   "source": [
    "#### Flow to run file\n",
    "1. infrastructure_as_code.ipynb to create and delete cluster\n",
    "2. create_tables.py to create table on database\n",
    "3. etl.py to load data from S3 to database \n",
    "4. data_quality.py to check if data is loaded successfully or not\n"
   ]
  },
  {
   "cell_type": "code",
   "execution_count": 1,
   "metadata": {
    "editable": true
   },
   "outputs": [],
   "source": [
    "# Do all imports and installs here\n",
    "import pandas as pd\n",
    "from pyspark.sql import functions as F\n",
    "import boto3\n",
    "# from IPython.display import display"
   ]
  },
  {
   "cell_type": "markdown",
   "metadata": {
    "editable": true
   },
   "source": [
    "### Step 1: Scope the Project and Gather Data\n",
    "\n",
    "#### Scope \n",
    "I used data from S&P 500 stocks. The final solution is a data warehouse to analyze stock indicators. Data is loaded into a database on Amazon Redshift.\n",
    "\n",
    "#### Describe and Gather Data\n",
    "S&P 500 stocks come from kaggle. It include daily data of stocks in America.  "
   ]
  },
  {
   "cell_type": "code",
   "execution_count": 2,
   "metadata": {
    "editable": true
   },
   "outputs": [
    {
     "data": {
      "text/html": [
       "<div>\n",
       "<style scoped>\n",
       "    .dataframe tbody tr th:only-of-type {\n",
       "        vertical-align: middle;\n",
       "    }\n",
       "\n",
       "    .dataframe tbody tr th {\n",
       "        vertical-align: top;\n",
       "    }\n",
       "\n",
       "    .dataframe thead th {\n",
       "        text-align: right;\n",
       "    }\n",
       "</style>\n",
       "<table border=\"1\" class=\"dataframe\">\n",
       "  <thead>\n",
       "    <tr style=\"text-align: right;\">\n",
       "      <th></th>\n",
       "      <th>Exchange</th>\n",
       "      <th>Symbol</th>\n",
       "      <th>Shortname</th>\n",
       "      <th>Longname</th>\n",
       "      <th>Sector</th>\n",
       "      <th>Industry</th>\n",
       "      <th>Currentprice</th>\n",
       "      <th>Marketcap</th>\n",
       "      <th>Ebitda</th>\n",
       "      <th>Revenuegrowth</th>\n",
       "      <th>City</th>\n",
       "      <th>State</th>\n",
       "      <th>Country</th>\n",
       "      <th>Fulltimeemployees</th>\n",
       "      <th>Longbusinesssummary</th>\n",
       "      <th>Weight</th>\n",
       "    </tr>\n",
       "  </thead>\n",
       "  <tbody>\n",
       "    <tr>\n",
       "      <th>0</th>\n",
       "      <td>NMS</td>\n",
       "      <td>AAPL</td>\n",
       "      <td>Apple Inc.</td>\n",
       "      <td>Apple Inc.</td>\n",
       "      <td>Technology</td>\n",
       "      <td>Consumer Electronics</td>\n",
       "      <td>138.20</td>\n",
       "      <td>2267364458496</td>\n",
       "      <td>1.295570e+11</td>\n",
       "      <td>0.019</td>\n",
       "      <td>Cupertino</td>\n",
       "      <td>CA</td>\n",
       "      <td>United States</td>\n",
       "      <td>154000.0</td>\n",
       "      <td>Apple Inc. designs, manufactures, and markets ...</td>\n",
       "      <td>0.071062</td>\n",
       "    </tr>\n",
       "    <tr>\n",
       "      <th>1</th>\n",
       "      <td>NMS</td>\n",
       "      <td>MSFT</td>\n",
       "      <td>Microsoft Corporation</td>\n",
       "      <td>Microsoft Corporation</td>\n",
       "      <td>Technology</td>\n",
       "      <td>Software—Infrastructure</td>\n",
       "      <td>232.90</td>\n",
       "      <td>1748608483328</td>\n",
       "      <td>9.798300e+10</td>\n",
       "      <td>0.124</td>\n",
       "      <td>Redmond</td>\n",
       "      <td>WA</td>\n",
       "      <td>United States</td>\n",
       "      <td>221000.0</td>\n",
       "      <td>Microsoft Corporation develops, licenses, and ...</td>\n",
       "      <td>0.054803</td>\n",
       "    </tr>\n",
       "    <tr>\n",
       "      <th>2</th>\n",
       "      <td>NMS</td>\n",
       "      <td>GOOGL</td>\n",
       "      <td>Alphabet Inc.</td>\n",
       "      <td>Alphabet Inc.</td>\n",
       "      <td>Communication Services</td>\n",
       "      <td>Internet Content &amp; Information</td>\n",
       "      <td>95.65</td>\n",
       "      <td>1250738569216</td>\n",
       "      <td>9.688700e+10</td>\n",
       "      <td>0.126</td>\n",
       "      <td>Mountain View</td>\n",
       "      <td>CA</td>\n",
       "      <td>United States</td>\n",
       "      <td>174014.0</td>\n",
       "      <td>Alphabet Inc. provides various products and pl...</td>\n",
       "      <td>0.039199</td>\n",
       "    </tr>\n",
       "    <tr>\n",
       "      <th>3</th>\n",
       "      <td>NMS</td>\n",
       "      <td>GOOG</td>\n",
       "      <td>Alphabet Inc.</td>\n",
       "      <td>Alphabet Inc.</td>\n",
       "      <td>Communication Services</td>\n",
       "      <td>Internet Content &amp; Information</td>\n",
       "      <td>96.15</td>\n",
       "      <td>1250738438144</td>\n",
       "      <td>9.688700e+10</td>\n",
       "      <td>0.126</td>\n",
       "      <td>Mountain View</td>\n",
       "      <td>CA</td>\n",
       "      <td>United States</td>\n",
       "      <td>174014.0</td>\n",
       "      <td>Alphabet Inc. provides various products and pl...</td>\n",
       "      <td>0.039199</td>\n",
       "    </tr>\n",
       "    <tr>\n",
       "      <th>4</th>\n",
       "      <td>NMS</td>\n",
       "      <td>AMZN</td>\n",
       "      <td>Amazon.com, Inc.</td>\n",
       "      <td>Amazon.com, Inc.</td>\n",
       "      <td>Consumer Cyclical</td>\n",
       "      <td>Internet Retail</td>\n",
       "      <td>113.00</td>\n",
       "      <td>1151198822400</td>\n",
       "      <td>5.262000e+10</td>\n",
       "      <td>0.072</td>\n",
       "      <td>Seattle</td>\n",
       "      <td>WA</td>\n",
       "      <td>United States</td>\n",
       "      <td>1523000.0</td>\n",
       "      <td>Amazon.com, Inc. engages in the retail sale of...</td>\n",
       "      <td>0.036080</td>\n",
       "    </tr>\n",
       "  </tbody>\n",
       "</table>\n",
       "</div>"
      ],
      "text/plain": [
       "  Exchange Symbol              Shortname               Longname  \\\n",
       "0      NMS   AAPL             Apple Inc.             Apple Inc.   \n",
       "1      NMS   MSFT  Microsoft Corporation  Microsoft Corporation   \n",
       "2      NMS  GOOGL          Alphabet Inc.          Alphabet Inc.   \n",
       "3      NMS   GOOG          Alphabet Inc.          Alphabet Inc.   \n",
       "4      NMS   AMZN       Amazon.com, Inc.       Amazon.com, Inc.   \n",
       "\n",
       "                   Sector                        Industry  Currentprice  \\\n",
       "0              Technology            Consumer Electronics        138.20   \n",
       "1              Technology         Software—Infrastructure        232.90   \n",
       "2  Communication Services  Internet Content & Information         95.65   \n",
       "3  Communication Services  Internet Content & Information         96.15   \n",
       "4       Consumer Cyclical                 Internet Retail        113.00   \n",
       "\n",
       "       Marketcap        Ebitda  Revenuegrowth           City State  \\\n",
       "0  2267364458496  1.295570e+11          0.019      Cupertino    CA   \n",
       "1  1748608483328  9.798300e+10          0.124        Redmond    WA   \n",
       "2  1250738569216  9.688700e+10          0.126  Mountain View    CA   \n",
       "3  1250738438144  9.688700e+10          0.126  Mountain View    CA   \n",
       "4  1151198822400  5.262000e+10          0.072        Seattle    WA   \n",
       "\n",
       "         Country  Fulltimeemployees  \\\n",
       "0  United States           154000.0   \n",
       "1  United States           221000.0   \n",
       "2  United States           174014.0   \n",
       "3  United States           174014.0   \n",
       "4  United States          1523000.0   \n",
       "\n",
       "                                 Longbusinesssummary    Weight  \n",
       "0  Apple Inc. designs, manufactures, and markets ...  0.071062  \n",
       "1  Microsoft Corporation develops, licenses, and ...  0.054803  \n",
       "2  Alphabet Inc. provides various products and pl...  0.039199  \n",
       "3  Alphabet Inc. provides various products and pl...  0.039199  \n",
       "4  Amazon.com, Inc. engages in the retail sale of...  0.036080  "
      ]
     },
     "execution_count": 2,
     "metadata": {},
     "output_type": "execute_result"
    }
   ],
   "source": [
    "# Read data in airport codes file\n",
    "pd.set_option('display.max_columns', None)\n",
    "df1 = pd.read_csv('raw/sp500_companies.csv') \n",
    "df1.head()"
   ]
  },
  {
   "cell_type": "code",
   "execution_count": 3,
   "metadata": {
    "editable": true
   },
   "outputs": [
    {
     "name": "stdout",
     "output_type": "stream",
     "text": [
      "<class 'pandas.core.frame.DataFrame'>\n",
      "RangeIndex: 492 entries, 0 to 491\n",
      "Data columns (total 16 columns):\n",
      "Exchange               492 non-null object\n",
      "Symbol                 492 non-null object\n",
      "Shortname              492 non-null object\n",
      "Longname               492 non-null object\n",
      "Sector                 492 non-null object\n",
      "Industry               492 non-null object\n",
      "Currentprice           492 non-null float64\n",
      "Marketcap              492 non-null int64\n",
      "Ebitda                 462 non-null float64\n",
      "Revenuegrowth          491 non-null float64\n",
      "City                   492 non-null object\n",
      "State                  473 non-null object\n",
      "Country                492 non-null object\n",
      "Fulltimeemployees      486 non-null float64\n",
      "Longbusinesssummary    492 non-null object\n",
      "Weight                 492 non-null float64\n",
      "dtypes: float64(5), int64(1), object(10)\n",
      "memory usage: 61.6+ KB\n"
     ]
    }
   ],
   "source": [
    "df1.info()"
   ]
  },
  {
   "cell_type": "code",
   "execution_count": 4,
   "metadata": {
    "editable": true
   },
   "outputs": [
    {
     "data": {
      "text/plain": [
       "Exchange                0\n",
       "Symbol                  0\n",
       "Shortname               0\n",
       "Longname                0\n",
       "Sector                  0\n",
       "Industry                0\n",
       "Currentprice            0\n",
       "Marketcap               0\n",
       "Ebitda                 30\n",
       "Revenuegrowth           1\n",
       "City                    0\n",
       "State                  19\n",
       "Country                 0\n",
       "Fulltimeemployees       6\n",
       "Longbusinesssummary     0\n",
       "Weight                  0\n",
       "dtype: int64"
      ]
     },
     "execution_count": 4,
     "metadata": {},
     "output_type": "execute_result"
    }
   ],
   "source": [
    "df1.isna().sum()"
   ]
  },
  {
   "cell_type": "code",
   "execution_count": 5,
   "metadata": {
    "editable": true
   },
   "outputs": [
    {
     "data": {
      "text/html": [
       "<div>\n",
       "<style scoped>\n",
       "    .dataframe tbody tr th:only-of-type {\n",
       "        vertical-align: middle;\n",
       "    }\n",
       "\n",
       "    .dataframe tbody tr th {\n",
       "        vertical-align: top;\n",
       "    }\n",
       "\n",
       "    .dataframe thead th {\n",
       "        text-align: right;\n",
       "    }\n",
       "</style>\n",
       "<table border=\"1\" class=\"dataframe\">\n",
       "  <thead>\n",
       "    <tr style=\"text-align: right;\">\n",
       "      <th></th>\n",
       "      <th>Date</th>\n",
       "      <th>S&amp;P500</th>\n",
       "    </tr>\n",
       "  </thead>\n",
       "  <tbody>\n",
       "    <tr>\n",
       "      <th>0</th>\n",
       "      <td>2012-10-01</td>\n",
       "      <td>1444.49</td>\n",
       "    </tr>\n",
       "    <tr>\n",
       "      <th>1</th>\n",
       "      <td>2012-10-02</td>\n",
       "      <td>1445.75</td>\n",
       "    </tr>\n",
       "    <tr>\n",
       "      <th>2</th>\n",
       "      <td>2012-10-03</td>\n",
       "      <td>1450.99</td>\n",
       "    </tr>\n",
       "    <tr>\n",
       "      <th>3</th>\n",
       "      <td>2012-10-04</td>\n",
       "      <td>1461.40</td>\n",
       "    </tr>\n",
       "    <tr>\n",
       "      <th>4</th>\n",
       "      <td>2012-10-05</td>\n",
       "      <td>1460.93</td>\n",
       "    </tr>\n",
       "  </tbody>\n",
       "</table>\n",
       "</div>"
      ],
      "text/plain": [
       "         Date   S&P500\n",
       "0  2012-10-01  1444.49\n",
       "1  2012-10-02  1445.75\n",
       "2  2012-10-03  1450.99\n",
       "3  2012-10-04  1461.40\n",
       "4  2012-10-05  1460.93"
      ]
     },
     "execution_count": 5,
     "metadata": {},
     "output_type": "execute_result"
    }
   ],
   "source": [
    "# Read data in immigration date file\n",
    "\n",
    "df2 = pd.read_csv('raw/sp500_index.csv') \n",
    "df2.head(5)"
   ]
  },
  {
   "cell_type": "code",
   "execution_count": 6,
   "metadata": {
    "editable": true
   },
   "outputs": [
    {
     "name": "stdout",
     "output_type": "stream",
     "text": [
      "<class 'pandas.core.frame.DataFrame'>\n",
      "RangeIndex: 2517 entries, 0 to 2516\n",
      "Data columns (total 2 columns):\n",
      "Date      2517 non-null object\n",
      "S&P500    2517 non-null float64\n",
      "dtypes: float64(1), object(1)\n",
      "memory usage: 39.4+ KB\n"
     ]
    }
   ],
   "source": [
    "df2.info()"
   ]
  },
  {
   "cell_type": "code",
   "execution_count": 7,
   "metadata": {
    "editable": true
   },
   "outputs": [
    {
     "data": {
      "text/plain": [
       "Date      0\n",
       "S&P500    0\n",
       "dtype: int64"
      ]
     },
     "execution_count": 7,
     "metadata": {},
     "output_type": "execute_result"
    }
   ],
   "source": [
    "df2.isna().sum()"
   ]
  },
  {
   "cell_type": "code",
   "execution_count": 8,
   "metadata": {
    "editable": true
   },
   "outputs": [
    {
     "data": {
      "text/html": [
       "<div>\n",
       "<style scoped>\n",
       "    .dataframe tbody tr th:only-of-type {\n",
       "        vertical-align: middle;\n",
       "    }\n",
       "\n",
       "    .dataframe tbody tr th {\n",
       "        vertical-align: top;\n",
       "    }\n",
       "\n",
       "    .dataframe thead th {\n",
       "        text-align: right;\n",
       "    }\n",
       "</style>\n",
       "<table border=\"1\" class=\"dataframe\">\n",
       "  <thead>\n",
       "    <tr style=\"text-align: right;\">\n",
       "      <th></th>\n",
       "      <th>Date</th>\n",
       "      <th>Symbol</th>\n",
       "      <th>Adj_Close</th>\n",
       "      <th>Close</th>\n",
       "      <th>High</th>\n",
       "      <th>Low</th>\n",
       "      <th>Open</th>\n",
       "      <th>Volume</th>\n",
       "    </tr>\n",
       "  </thead>\n",
       "  <tbody>\n",
       "    <tr>\n",
       "      <th>0</th>\n",
       "      <td>12/31/2009</td>\n",
       "      <td>MMM</td>\n",
       "      <td>NaN</td>\n",
       "      <td>NaN</td>\n",
       "      <td>NaN</td>\n",
       "      <td>NaN</td>\n",
       "      <td>NaN</td>\n",
       "      <td>NaN</td>\n",
       "    </tr>\n",
       "    <tr>\n",
       "      <th>1</th>\n",
       "      <td>1/4/2010</td>\n",
       "      <td>MMM</td>\n",
       "      <td>59.318886</td>\n",
       "      <td>83.019997</td>\n",
       "      <td>83.449997</td>\n",
       "      <td>82.669998</td>\n",
       "      <td>83.089996</td>\n",
       "      <td>3043700.0</td>\n",
       "    </tr>\n",
       "    <tr>\n",
       "      <th>2</th>\n",
       "      <td>1/5/2010</td>\n",
       "      <td>MMM</td>\n",
       "      <td>58.947342</td>\n",
       "      <td>82.500000</td>\n",
       "      <td>83.230003</td>\n",
       "      <td>81.699997</td>\n",
       "      <td>82.800003</td>\n",
       "      <td>2847000.0</td>\n",
       "    </tr>\n",
       "    <tr>\n",
       "      <th>3</th>\n",
       "      <td>1/6/2010</td>\n",
       "      <td>MMM</td>\n",
       "      <td>59.783295</td>\n",
       "      <td>83.669998</td>\n",
       "      <td>84.599998</td>\n",
       "      <td>83.510002</td>\n",
       "      <td>83.879997</td>\n",
       "      <td>5268500.0</td>\n",
       "    </tr>\n",
       "    <tr>\n",
       "      <th>4</th>\n",
       "      <td>1/7/2010</td>\n",
       "      <td>MMM</td>\n",
       "      <td>59.826176</td>\n",
       "      <td>83.730003</td>\n",
       "      <td>83.760002</td>\n",
       "      <td>82.120003</td>\n",
       "      <td>83.320000</td>\n",
       "      <td>4470100.0</td>\n",
       "    </tr>\n",
       "  </tbody>\n",
       "</table>\n",
       "</div>"
      ],
      "text/plain": [
       "         Date Symbol  Adj_Close      Close       High        Low       Open  \\\n",
       "0  12/31/2009    MMM        NaN        NaN        NaN        NaN        NaN   \n",
       "1    1/4/2010    MMM  59.318886  83.019997  83.449997  82.669998  83.089996   \n",
       "2    1/5/2010    MMM  58.947342  82.500000  83.230003  81.699997  82.800003   \n",
       "3    1/6/2010    MMM  59.783295  83.669998  84.599998  83.510002  83.879997   \n",
       "4    1/7/2010    MMM  59.826176  83.730003  83.760002  82.120003  83.320000   \n",
       "\n",
       "      Volume  \n",
       "0        NaN  \n",
       "1  3043700.0  \n",
       "2  2847000.0  \n",
       "3  5268500.0  \n",
       "4  4470100.0  "
      ]
     },
     "execution_count": 8,
     "metadata": {},
     "output_type": "execute_result"
    }
   ],
   "source": [
    "\n",
    "df3 = pd.read_csv('raw/sp500_stocks.csv') \n",
    "df3.head()"
   ]
  },
  {
   "cell_type": "code",
   "execution_count": 9,
   "metadata": {
    "editable": true
   },
   "outputs": [
    {
     "name": "stdout",
     "output_type": "stream",
     "text": [
      "<class 'pandas.core.frame.DataFrame'>\n",
      "RangeIndex: 1048575 entries, 0 to 1048574\n",
      "Data columns (total 8 columns):\n",
      "Date         1048575 non-null object\n",
      "Symbol       1048575 non-null object\n",
      "Adj_Close    998131 non-null float64\n",
      "Close        998131 non-null float64\n",
      "High         998131 non-null float64\n",
      "Low          998131 non-null float64\n",
      "Open         998131 non-null float64\n",
      "Volume       998131 non-null float64\n",
      "dtypes: float64(6), object(2)\n",
      "memory usage: 64.0+ MB\n"
     ]
    }
   ],
   "source": [
    "df3.info()"
   ]
  },
  {
   "cell_type": "code",
   "execution_count": 10,
   "metadata": {
    "editable": true
   },
   "outputs": [
    {
     "data": {
      "text/plain": [
       "Date             0\n",
       "Symbol           0\n",
       "Adj_Close    50444\n",
       "Close        50444\n",
       "High         50444\n",
       "Low          50444\n",
       "Open         50444\n",
       "Volume       50444\n",
       "dtype: int64"
      ]
     },
     "execution_count": 10,
     "metadata": {},
     "output_type": "execute_result"
    }
   ],
   "source": [
    "df3.isna().sum()"
   ]
  },
  {
   "cell_type": "code",
   "execution_count": 11,
   "metadata": {
    "editable": true
   },
   "outputs": [],
   "source": [
    "from pyspark.sql import SparkSession\n",
    "\n",
    "spark = SparkSession.builder.\\\n",
    "config(\"spark.jars.repositories\", \"https://repos.spark-packages.org/\").\\\n",
    "config(\"spark.jars.packages\", \"saurfang:spark-sas7bdat:2.0.0-s_2.11\").\\\n",
    "enableHiveSupport().getOrCreate()\n",
    "\n",
    "# df_spark = spark.read.format('com.github.saurfang.sas.spark').load('../../data/18-83510-I94-Data-2016/i94_apr16_sub.sas7bdat')\n",
    "# df = spark\n",
    "# df = spark.read.option(\"header\",True).csv(\"sp500_stocks.csv\")\n",
    "\n",
    "# df.write.partitionBy(\"Symbol\").parquet(\"sp500_stocks.parquet\", mode=\"overwrite\")"
   ]
  },
  {
   "cell_type": "code",
   "execution_count": 12,
   "metadata": {
    "editable": true
   },
   "outputs": [
    {
     "name": "stdout",
     "output_type": "stream",
     "text": [
      "+----------+-----------+-----------+-----------+-----------+-----------+--------+------+\n",
      "|Date      |Adj_Close  |Close      |High       |Low        |Open       |Volume  |Symbol|\n",
      "+----------+-----------+-----------+-----------+-----------+-----------+--------+------+\n",
      "|12/31/2009|null       |null       |null       |null       |null       |null    |HON   |\n",
      "|1/4/2010  |29.38503838|38.46846008|38.49706268|37.63903046|37.76296616|7750615 |HON   |\n",
      "|1/5/2010  |29.44331551|38.54473114|38.57332993|38.22058487|38.28731918|6796106 |HON   |\n",
      "|1/6/2010  |29.44331551|38.54473114|38.64960098|38.35405731|38.55426407|6209345 |HON   |\n",
      "|1/7/2010  |30.01133537|39.28835678|39.43136215|38.21105194|38.55426407|10266533|HON   |\n",
      "+----------+-----------+-----------+-----------+-----------+-----------+--------+------+\n",
      "only showing top 5 rows\n",
      "\n"
     ]
    }
   ],
   "source": [
    "df = spark.read.parquet(\"raw/sp500_stocks.parquet\")\n",
    "df.show(5, truncate=False)"
   ]
  },
  {
   "cell_type": "code",
   "execution_count": 13,
   "metadata": {
    "editable": true
   },
   "outputs": [
    {
     "name": "stdout",
     "output_type": "stream",
     "text": [
      "root\n",
      " |-- Date: string (nullable = true)\n",
      " |-- Adj_Close: string (nullable = true)\n",
      " |-- Close: string (nullable = true)\n",
      " |-- High: string (nullable = true)\n",
      " |-- Low: string (nullable = true)\n",
      " |-- Open: string (nullable = true)\n",
      " |-- Volume: string (nullable = true)\n",
      " |-- Symbol: string (nullable = true)\n",
      "\n"
     ]
    }
   ],
   "source": [
    "df.printSchema()"
   ]
  },
  {
   "cell_type": "code",
   "execution_count": 14,
   "metadata": {
    "editable": true
   },
   "outputs": [
    {
     "data": {
      "text/plain": [
       "1048575"
      ]
     },
     "execution_count": 14,
     "metadata": {},
     "output_type": "execute_result"
    }
   ],
   "source": [
    "df.count()"
   ]
  },
  {
   "cell_type": "markdown",
   "metadata": {
    "editable": true
   },
   "source": [
    "### Step 2: Explore and Assess the Data\n",
    "#### Explore the Data \n",
    "Identify data quality issues, like missing values, duplicate data, etc.\n",
    "\n",
    "#### Cleaning Steps\n",
    "Document steps necessary to clean the data"
   ]
  },
  {
   "cell_type": "code",
   "execution_count": 15,
   "metadata": {
    "editable": true
   },
   "outputs": [
    {
     "data": {
      "text/plain": [
       "Exchange                 4\n",
       "Symbol                 492\n",
       "Shortname              489\n",
       "Longname               489\n",
       "Sector                  11\n",
       "Industry               113\n",
       "Currentprice           489\n",
       "Marketcap              492\n",
       "Ebitda                 455\n",
       "Revenuegrowth          317\n",
       "City                   229\n",
       "State                   38\n",
       "Country                  7\n",
       "Fulltimeemployees      388\n",
       "Longbusinesssummary    489\n",
       "Weight                 492\n",
       "dtype: int64"
      ]
     },
     "execution_count": 15,
     "metadata": {},
     "output_type": "execute_result"
    }
   ],
   "source": [
    "df1.nunique()"
   ]
  },
  {
   "cell_type": "code",
   "execution_count": 16,
   "metadata": {
    "editable": true
   },
   "outputs": [
    {
     "data": {
      "text/plain": [
       "Exchange                 4\n",
       "Symbol                 492\n",
       "Shortname              489\n",
       "Longname               489\n",
       "Sector                  11\n",
       "Industry               113\n",
       "Currentprice           489\n",
       "Marketcap              492\n",
       "Ebitda                 455\n",
       "Revenuegrowth          317\n",
       "City                   229\n",
       "State                   38\n",
       "Country                  7\n",
       "Fulltimeemployees      388\n",
       "Longbusinesssummary    489\n",
       "Weight                 492\n",
       "dtype: int64"
      ]
     },
     "execution_count": 16,
     "metadata": {},
     "output_type": "execute_result"
    }
   ],
   "source": [
    "# Drop all duplicate rows\n",
    "df1 = df1.drop_duplicates()\n",
    "df1.nunique()"
   ]
  },
  {
   "cell_type": "code",
   "execution_count": 17,
   "metadata": {
    "editable": true
   },
   "outputs": [
    {
     "data": {
      "text/plain": [
       "Exchange                0\n",
       "Symbol                  0\n",
       "Shortname               0\n",
       "Longname                0\n",
       "Sector                  0\n",
       "Industry                0\n",
       "Currentprice            0\n",
       "Marketcap               0\n",
       "Ebitda                  0\n",
       "Revenuegrowth           0\n",
       "City                    0\n",
       "State                  19\n",
       "Country                 0\n",
       "Fulltimeemployees       6\n",
       "Longbusinesssummary     0\n",
       "Weight                  0\n",
       "dtype: int64"
      ]
     },
     "execution_count": 17,
     "metadata": {},
     "output_type": "execute_result"
    }
   ],
   "source": [
    "mean_Ebitda = df1['Ebitda'].mean()\n",
    "mean_Revenuegrowth = df1['Revenuegrowth'].mean()\n",
    "df1['Ebitda'].fillna(value=mean_Ebitda, inplace=True)\n",
    "df1['Revenuegrowth'].fillna(value=mean_Revenuegrowth, inplace=True)\n",
    "df1.isna().sum()"
   ]
  },
  {
   "cell_type": "code",
   "execution_count": 18,
   "metadata": {
    "editable": true
   },
   "outputs": [
    {
     "data": {
      "text/plain": [
       "Date      2517\n",
       "S&P500    2505\n",
       "dtype: int64"
      ]
     },
     "execution_count": 18,
     "metadata": {},
     "output_type": "execute_result"
    }
   ],
   "source": [
    "df2.nunique()"
   ]
  },
  {
   "cell_type": "code",
   "execution_count": 19,
   "metadata": {
    "editable": true
   },
   "outputs": [
    {
     "data": {
      "text/plain": [
       "Date      2517\n",
       "S&P500    2505\n",
       "dtype: int64"
      ]
     },
     "execution_count": 19,
     "metadata": {},
     "output_type": "execute_result"
    }
   ],
   "source": [
    "# Drop all duplicate rows\n",
    "df2 = df2.drop_duplicates()\n",
    "df2.nunique()"
   ]
  },
  {
   "cell_type": "code",
   "execution_count": 20,
   "metadata": {
    "editable": true
   },
   "outputs": [
    {
     "data": {
      "text/plain": [
       "1048575"
      ]
     },
     "execution_count": 20,
     "metadata": {},
     "output_type": "execute_result"
    }
   ],
   "source": [
    "df.distinct().count()"
   ]
  },
  {
   "cell_type": "code",
   "execution_count": 21,
   "metadata": {
    "editable": true
   },
   "outputs": [
    {
     "data": {
      "text/plain": [
       "1048575"
      ]
     },
     "execution_count": 21,
     "metadata": {},
     "output_type": "execute_result"
    }
   ],
   "source": [
    "df = df.dropDuplicates()\n",
    "df.distinct().count()"
   ]
  },
  {
   "cell_type": "code",
   "execution_count": 22,
   "metadata": {
    "editable": true
   },
   "outputs": [
    {
     "name": "stdout",
     "output_type": "stream",
     "text": [
      "+----+---------+-----+-----+-----+-----+------+------+\n",
      "|Date|Adj_Close|Close| High|  Low| Open|Volume|Symbol|\n",
      "+----+---------+-----+-----+-----+-----+------+------+\n",
      "|   0|    50444|50444|50444|50444|50444| 50444|     0|\n",
      "+----+---------+-----+-----+-----+-----+------+------+\n",
      "\n"
     ]
    }
   ],
   "source": [
    "# Count null values\n",
    "df.select([F.count(F.when(F.isnan(c) | F.col(c).isNull(), c)).alias(c) for c in df.columns]).show()"
   ]
  },
  {
   "cell_type": "code",
   "execution_count": 23,
   "metadata": {
    "editable": true
   },
   "outputs": [],
   "source": [
    "df_mean = df.fillna(value=0, subset=['Adj_Close'])\\\n",
    "            .select(F.mean(F.col('Adj_Close')).alias('avg')).collect()\n",
    "df_mean = df.fillna(value=0, subset=['Close'])\\\n",
    "            .select(F.mean(F.col('Close')).alias('avg')).collect()\n",
    "df_mean = df.fillna(value=0, subset=['High'])\\\n",
    "            .select(F.mean(F.col('High')).alias('avg')).collect()\n",
    "df_mean = df.fillna(value=0, subset=['Low'])\\\n",
    "            .select(F.mean(F.col('Low')).alias('avg')).collect()\n",
    "df_mean = df.fillna(value=0, subset=['Open'])\\\n",
    "            .select(F.mean(F.col('Open')).alias('avg')).collect()\n",
    "df_mean = df.fillna(value=0, subset=['Volume'])\\\n",
    "            .select(F.mean(F.col('Volume')).alias('avg')).collect()\n",
    "\n",
    "\n",
    "avg = df_mean[0]['avg']\n",
    "\n",
    "df = df.withColumn(\"Adj_Close\", F.udf(lambda x: avg if x is None else x)(F.col('Adj_Close')))\n",
    "df = df.withColumn(\"Close\", F.udf(lambda x: avg if x is None else x)(F.col('Close')))\n",
    "df = df.withColumn(\"High\", F.udf(lambda x: avg if x is None else x)(F.col('High')))\n",
    "df = df.withColumn(\"Low\", F.udf(lambda x: avg if x is None else x)(F.col('Low')))\n",
    "df = df.withColumn(\"Open\", F.udf(lambda x: avg if x is None else x)(F.col('Open')))\n",
    "df = df.withColumn(\"Volume\", F.udf(lambda x: avg if x is None else x)(F.col('Volume')))"
   ]
  },
  {
   "cell_type": "code",
   "execution_count": 24,
   "metadata": {
    "editable": true
   },
   "outputs": [],
   "source": [
    "# Count null values\n",
    "# df.select([F.count(F.when(F.isnan(c) | F.col(c).isNull(), c)).alias(c) for c in df.columns]).show()"
   ]
  },
  {
   "cell_type": "code",
   "execution_count": 25,
   "metadata": {
    "editable": true
   },
   "outputs": [],
   "source": [
    "df1.to_csv('cleaned_data/sp500_companies.csv', index=False)"
   ]
  },
  {
   "cell_type": "code",
   "execution_count": 26,
   "metadata": {
    "editable": true
   },
   "outputs": [],
   "source": [
    "df2.to_csv('cleaned_data/sp500_index.csv', index=False)"
   ]
  },
  {
   "cell_type": "code",
   "execution_count": 27,
   "metadata": {
    "editable": true
   },
   "outputs": [],
   "source": [
    "df.write.parquet(\"cleaned_data/sp500_stocks.parquet\", mode=\"overwrite\")"
   ]
  },
  {
   "cell_type": "code",
   "execution_count": 30,
   "metadata": {
    "editable": true
   },
   "outputs": [
    {
     "name": "stdout",
     "output_type": "stream",
     "text": [
      "+----------+-----------+-----------+-----------+-----------+-----------+-------+------+\n",
      "|Date      |Adj_Close  |Close      |High       |Low        |Open       |Volume |Symbol|\n",
      "+----------+-----------+-----------+-----------+-----------+-----------+-------+------+\n",
      "|11/19/2010|37.28019333|47.45873642|47.46826935|46.83904648|47.32526398|4916457|HON   |\n",
      "|2/7/2011  |42.78460312|54.4659996 |54.74247742|54.3134613 |54.59947205|3067121|HON   |\n",
      "|2/11/2011 |43.42116165|55.27636337|55.36216736|54.41833115|54.6471405 |2425293|HON   |\n",
      "|3/15/2011 |41.83667374|52.95014191|53.35055923|51.66309357|51.9109726 |5028795|HON   |\n",
      "|11/15/2011|41.80090332|52.22558212|52.62599945|51.50102234|51.90143585|4782091|HON   |\n",
      "+----------+-----------+-----------+-----------+-----------+-----------+-------+------+\n",
      "only showing top 5 rows\n",
      "\n"
     ]
    }
   ],
   "source": [
    "df = spark.read.parquet(\"cleaned_data/sp500_stocks.parquet\")\n",
    "df.show(5, truncate=False)"
   ]
  },
  {
   "cell_type": "markdown",
   "metadata": {
    "editable": true
   },
   "source": [
    "### Step 3: Define the Data Model\n",
    "#### 3.1 Conceptual Data Model\n",
    "I use a snowflake schema for this OLAP model. Fact table contains all the main aspects for analysis when changes occur in the market. With symbol refference, we can search for more company details in the dim_company table. Then, dim_location and dim_exchange provide the location where the company is and the exchange where the stock was traded, respectively. Furthermore, dim_index displays the S&P 500 index on that date.\n",
    "\n",
    "#### 3.2 Mapping Out Data Pipelines\n",
    "Clean data >> upload data to S3 >> create table >> load data into stage table >> load data into dim and fact >> check data quality\n",
    "\n"
   ]
  },
  {
   "cell_type": "markdown",
   "metadata": {
    "editable": true
   },
   "source": [
    "### Step 4: Run Pipelines to Model the Data \n",
    "#### 4.1 Create the data model\n",
    "Build the data pipelines to create the data model."
   ]
  },
  {
   "cell_type": "code",
   "execution_count": 2,
   "metadata": {
    "editable": true
   },
   "outputs": [],
   "source": [
    "# After create a redshift cluster in Infrastructure_as_code.ipynb run\n",
    "# !python create_tables.py\n",
    "# !python etl.py"
   ]
  },
  {
   "cell_type": "markdown",
   "metadata": {
    "editable": true
   },
   "source": [
    "#### 4.2 Data Quality Checks\n",
    "Explain the data quality checks you'll perform to ensure the pipeline ran as expected. These could include:\n",
    " * Integrity constraints on the relational database (e.g., unique key, data type, etc.)\n",
    " * Unit tests for the scripts to ensure they are doing the right thing\n",
    " * Source/Count checks to ensure completeness\n",
    " \n",
    "Run Quality Checks"
   ]
  },
  {
   "cell_type": "code",
   "execution_count": 24,
   "metadata": {
    "editable": true
   },
   "outputs": [],
   "source": [
    "# Perform quality checks here\n",
    "import configparser\n",
    "import psycopg2\n",
    "config = configparser.ConfigParser()\n",
    "config.read('dwh.cfg')\n",
    "\n",
    "conn = psycopg2.connect(\"host={} dbname={} user={} password={} port={}\".format(*config['CLUSTER'].values()))\n",
    "cur = conn.cursor()"
   ]
  },
  {
   "cell_type": "code",
   "execution_count": 25,
   "metadata": {
    "editable": true
   },
   "outputs": [],
   "source": [
    "dq_checks=[\n",
    "    {'test_sql': \"SELECT COUNT(*) FROM fact_stocks\", 'expected_result': 0, 'table':'fact_stocks'},\n",
    "    {'test_sql': \"SELECT COUNT(*) FROM dim_index\", 'expected_result': 0, 'table':'dim_index'},\n",
    "    {'test_sql': \"SELECT COUNT(*) FROM dim_company\", 'expected_result': 0, 'table':'dim_company'},\n",
    "    {'test_sql': \"SELECT COUNT(*) FROM dim_location\", 'expected_result': 0, 'table':'dim_location'},\n",
    "    {'test_sql': \"SELECT COUNT(*) FROM dim_exchange\", 'expected_result': 0, 'table':'dim_exchange'},\n",
    "]"
   ]
  },
  {
   "cell_type": "code",
   "execution_count": 29,
   "metadata": {
    "editable": true
   },
   "outputs": [
    {
     "name": "stdout",
     "output_type": "stream",
     "text": [
      "Data quality check pass on table fact_stocks\n",
      "Data quality check pass on table dim_index\n",
      "Data quality check pass on table dim_company\n",
      "Data quality check pass on table dim_location\n",
      "Data quality check pass on table dim_exchange\n"
     ]
    }
   ],
   "source": [
    "for dq_check in dq_checks:\n",
    "    cur.execute(dq_check['test_sql'])\n",
    "    records = cur.fetchone()\n",
    "    \n",
    "    if dq_check['expected_result'] == records[0]:\n",
    "        print(f\"There are no data in table {dq_check['table']}\")\n",
    "    else:\n",
    "        print(f\"Data quality check pass on table {dq_check['table']}\")\n",
    "              "
   ]
  },
  {
   "cell_type": "code",
   "execution_count": 18,
   "metadata": {
    "editable": true
   },
   "outputs": [],
   "source": [
    "import boto3\n",
    "import configparser\n",
    "import psycopg2\n",
    "\n",
    "config = configparser.ConfigParser()\n",
    "config.read('dwh.cfg')\n",
    "\n",
    "KEY                    = config.get('AWS','KEY')\n",
    "SECRET                 = config.get('AWS','SECRET')\n",
    "DWH_CLUSTER_IDENTIFIER = config.get(\"DWH\",\"DWH_CLUSTER_IDENTIFIER\")\n",
    "DWH_DB                 = config.get(\"DWH\",\"DWH_DB\")\n",
    "DWH_DB_USER            = config.get(\"DWH\",\"DWH_DB_USER\")\n",
    "\n",
    "\n",
    "redshift = boto3.client('redshift',region_name = 'us-west-2', aws_access_key_id = KEY, aws_secret_access_key = SECRET)"
   ]
  },
  {
   "cell_type": "code",
   "execution_count": 31,
   "metadata": {
    "editable": true
   },
   "outputs": [
    {
     "data": {
      "text/plain": [
       "('symbol', 'character varying(255)')"
      ]
     },
     "execution_count": 31,
     "metadata": {},
     "output_type": "execute_result"
    }
   ],
   "source": [
    "conn = psycopg2.connect(\"host={} dbname={} user={} password={} port={}\".format(*config['CLUSTER'].values()))\n",
    "cur = conn.cursor()\n",
    "cur.execute(\"SELECT * FROM PG_TABLE_DEF WHERE schemaname = 'public';\")\n",
    "records = cur.fetchone()\n",
    "records[2:4]\n"
   ]
  },
  {
   "cell_type": "code",
   "execution_count": 3,
   "metadata": {
    "editable": true
   },
   "outputs": [],
   "source": [
    "# Run this after etl process to check data quality\n",
    "# !python data_quality.py"
   ]
  },
  {
   "cell_type": "markdown",
   "metadata": {
    "editable": true
   },
   "source": [
    "#### 4.3 Data dictionary "
   ]
  },
  {
   "cell_type": "markdown",
   "metadata": {
    "editable": true
   },
   "source": [
    "\n",
    "\n",
    "| Field Name          | Data Type | Description                                                                                                      | Example                                       |\n",
    "|---------------------|-----------|------------------------------------------------------------------------------------------------------------------|-----------------------------------------------|\n",
    "| Exchange            | VARCHAR   | Exchange where its stocks are negociated                                                                         | NMS                                           |\n",
    "| Symbol              | VARCHAR   | Stock symbol                                                                                                     | AAPL                                          |\n",
    "| Short_name          | VARCHAR   | Company short name                                                                                               | Apple Inc.                                    |\n",
    "| Long_name           | VARCHAR   | Company long name                                                                                                | Apple Inc.                                    |\n",
    "| Sector              | VARCHAR   | Sector where the company operates                                                                                | Technology                                    |\n",
    "| Industry            | VARCHAR   | Industry, within a sector, where the company operates                                                            | Consumer Electronics                          |\n",
    "| Current_price       | FLOAT     | Current stock price                                                                                              | 138.20                                        |\n",
    "| Marketcap           | FLOAT     | Current marketcap                                                                                                | 2,26736E+12                                   |\n",
    "| Ebitda              | FLOAT     | Earnings before interest, taxes, depreciation and amortization                                                   | 1,30E+17                                      |\n",
    "| Revenue_growth      | FLOAT     | Revenue growth                                                                                                   | 0.019                                         |\n",
    "| Date                | DATE      | Date                                                                                                             | 01/10/2012                                    |\n",
    "| S&P500              | FLOAT     | Value of the S&P 500 index                                                                                       | 1444.49                                       |\n",
    "| Symbol              | VARCHAR   | Company Symbol/Ticker                                                                                            | MMM                                           |\n",
    "| Adj_close_price     | FLOAT     | Similar to the price at market closure, yet also takes into account company actions such as dividends and splits | 59.318.886                                    |\n",
    "| Close_price         | FLOAT     | Price at market closure                                                                                          | 83.019.997                                    |\n",
    "| High_price          | FLOAT     | Maximum value of period                                                                                          | 83.449.997                                    |\n",
    "| Low_price           | FLOAT     | Minimum value of period                                                                                          | 82.669.998                                    |\n",
    "| Open_price          | FLOAT     | Price at market opening                                                                                          | 83.089.996                                    |\n",
    "| Volume              | FLOAT     | Volume traded                                                                                                    | 3043700.0                                     |\n",
    "| City                | VARCHAR   | City                                                                                                             | Cupertino                                     |\n",
    "| State               | VARCHAR   | State                                                                                                            | CA                                            |\n",
    "| Country             | VARCHAR   | Country                                                                                                          | United States                                 |\n",
    "| Fulltimeemployees   | FLOAT     | Fulltimeemployees                                                                                                | 154000.0                                      |\n",
    "| Longbusinesssummary | VARCHAR   | Longbusinesssummary                                                                                              | Apple Inc. designs, manufactures, and markets |\n",
    "| Weight              | FLOAT     | Weight                                                                                                           | 0.071062                                      |"
   ]
  },
  {
   "cell_type": "markdown",
   "metadata": {
    "editable": true
   },
   "source": [
    "#### Step 5: Complete Project Write Up\n",
    "* Clearly state the rationale for the choice of tools and technologies for the project.\n",
    "* Propose how often the data should be updated and why.\n",
    "* Write a description of how you would approach the problem differently under the following scenarios:\n",
    " * The data was increased by 100x.\n",
    " * The data populates a dashboard that must be updated on a daily basis by 7am every day.\n",
    " * The database needed to be accessed by 100+ people."
   ]
  },
  {
   "cell_type": "markdown",
   "metadata": {
    "editable": true
   },
   "source": [
    "#### Reason\n",
    "Amazon redshift can run and scale analytics in seconds on data without having to manage data warehouse infrastructure. It works well with a data warehouse. It's easy to connect and analyze data with a basic familiar query. \n",
    "It is well suited to OLTP and data warehouse models, as used in this project. \n",
    "\n",
    "![image](schema.jpg)\n",
    "\n",
    "#### Daily\n",
    "This data should be updated daily due to the daily changes in the stock market. \n",
    "\n",
    "#### Scale up\n",
    " * The data was increased by 100x: Convert the data to parquet and save it to S3. This is a kind of data lake model concept that we can use spark to quickly ingest and analyze data. Consider using EMR if needed. \n",
    " * The data populates a dashboard that must be updated on a daily basis by 7am every day: Use EMR and set up airflow on it.\n",
    " * The database needed to be accessed by 100+ people: Use EMR and set up spark on it."
   ]
  },
  {
   "cell_type": "markdown",
   "metadata": {
    "editable": true
   },
   "source": [
    "#### User use example\n",
    "    SELECT AVG(open_price) AS Average_open_price \n",
    "    FROM Fact_stock AS f\n",
    "    LEFT JOIN Dim_company AS c\n",
    "    ON f.symbol = c.symbol\n",
    "    WHERE Sector = 'Technology'\n",
    "    GROUP BY symbol;\n",
    " "
   ]
  },
  {
   "cell_type": "code",
   "execution_count": null,
   "metadata": {
    "editable": true
   },
   "outputs": [],
   "source": []
  }
 ],
 "metadata": {
  "kernelspec": {
   "display_name": "Python 3",
   "language": "python",
   "name": "python3"
  },
  "language_info": {
   "codemirror_mode": {
    "name": "ipython",
    "version": 3
   },
   "file_extension": ".py",
   "mimetype": "text/x-python",
   "name": "python",
   "nbconvert_exporter": "python",
   "pygments_lexer": "ipython3",
   "version": "3.6.3"
  }
 },
 "nbformat": 4,
 "nbformat_minor": 4
}
